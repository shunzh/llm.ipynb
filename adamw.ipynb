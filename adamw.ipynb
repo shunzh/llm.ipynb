{
  "cells": [
    {
      "cell_type": "markdown",
      "metadata": {
        "id": "view-in-github",
        "colab_type": "text"
      },
      "source": [
        "<a href=\"https://colab.research.google.com/github/shunzh/llm.ipynb/blob/main/adamw.ipynb\" target=\"_parent\"><img src=\"https://colab.research.google.com/assets/colab-badge.svg\" alt=\"Open In Colab\"/></a>"
      ]
    },
    {
      "cell_type": "markdown",
      "id": "2d775962",
      "metadata": {
        "id": "2d775962"
      },
      "source": [
        "# 📘 AdamW Optimizer from Scratch"
      ]
    },
    {
      "cell_type": "markdown",
      "id": "6bf37549",
      "metadata": {
        "id": "6bf37549"
      },
      "source": [
        "In this notebook, we'll implement the **AdamW** optimizer from scratch and test it on a simple MLP trained on synthetic data. AdamW decouples weight decay from the optimization step, leading to better generalization."
      ]
    },
    {
      "cell_type": "markdown",
      "id": "32b7d9b7",
      "metadata": {
        "id": "32b7d9b7"
      },
      "source": [
        "## 1. Imports"
      ]
    },
    {
      "cell_type": "code",
      "execution_count": null,
      "id": "1b57ecf2",
      "metadata": {
        "id": "1b57ecf2"
      },
      "outputs": [],
      "source": [
        "import numpy as np\n",
        "import torch\n",
        "import torch.nn as nn\n",
        "from torch.utils.data import TensorDataset, DataLoader"
      ]
    },
    {
      "cell_type": "markdown",
      "id": "dc42fc8c",
      "metadata": {
        "id": "dc42fc8c"
      },
      "source": [
        "## 2. Define a Simple Dataset\n",
        "\n",
        "We'll create a small synthetic regression dataset."
      ]
    },
    {
      "cell_type": "code",
      "execution_count": null,
      "id": "10a6e37c",
      "metadata": {
        "id": "10a6e37c"
      },
      "outputs": [],
      "source": [
        "# Sample x uniformly from -2π to 2π\n",
        "x = np.random.uniform(-2 * np.pi, 2 * np.pi, size=(500, 1))\n",
        "y = np.sin(x) + 0.1 * np.random.randn(*x.shape)\n",
        "\n",
        "# Convert to torch tensors\n",
        "x_tensor = torch.tensor(x, dtype=torch.float32)\n",
        "y_tensor = torch.tensor(y, dtype=torch.float32)\n",
        "\n",
        "# Wrap in dataset and dataloader\n",
        "dataset = TensorDataset(x_tensor, y_tensor)\n",
        "dataloader = DataLoader(dataset, batch_size=32, shuffle=True)"
      ]
    },
    {
      "cell_type": "markdown",
      "id": "e8a7c649",
      "metadata": {
        "id": "e8a7c649"
      },
      "source": [
        "## 3. Define a Simple MLP\n",
        "\n",
        "A small MLP with a few linear layers and ReLU activations."
      ]
    },
    {
      "cell_type": "code",
      "execution_count": null,
      "id": "64b68ac9",
      "metadata": {
        "id": "64b68ac9"
      },
      "outputs": [],
      "source": [
        "class MLP(nn.Module):\n",
        "    def __init__(self, input_dim=1, hidden_dim=64, output_dim=1):\n",
        "        super().__init__()\n",
        "        self.net = nn.Sequential(\n",
        "            nn.Linear(input_dim, hidden_dim),\n",
        "            nn.ReLU(),\n",
        "            nn.Linear(hidden_dim, hidden_dim),\n",
        "            nn.ReLU(),\n",
        "            nn.Linear(hidden_dim, output_dim)\n",
        "        )\n",
        "\n",
        "    def forward(self, x):\n",
        "        return self.net(x)"
      ]
    },
    {
      "cell_type": "markdown",
      "id": "5e247544",
      "metadata": {
        "id": "5e247544"
      },
      "source": [
        "## 4. Implement Adam and AdamW Optimizers\n",
        "\n",
        "We'll implement the Adam optimizer based on the standard update rule:\n",
        "\n",
        "$$\n",
        "\\begin{aligned}\n",
        "m_t &= \\beta_1 m_{t-1} + (1 - \\beta_1) g_t \\\\\\\\\n",
        "v_t &= \\beta_2 v_{t-1} + (1 - \\beta_2) g_t^2 \\\\\\\\\n",
        "\\hat{m}_t &= \\frac{m_t}{1 - \\beta_1^t},\\quad \\hat{v}_t = \\frac{v_t}{1 - \\beta_2^t} \\\\\\\\\n",
        "\\theta_{t+1} &= \\theta_t - \\eta \\cdot \\frac{\\hat{m}_t}{\\sqrt{\\hat{v}_t} + \\epsilon}\n",
        "\\end{aligned}\n",
        "$$\n",
        "\n",
        "We can regularize the model by applying **L2 penalty** or **decoupled weight decay**.\n"
      ]
    },
    {
      "cell_type": "markdown",
      "source": [
        "### L2 Regularization (Used in Classic Adam)\n",
        "\n",
        "Apply weight decay **inside the gradient** before computing moments:\n",
        "\n",
        "$$\n",
        "g_t \\leftarrow g_t + \\lambda \\theta_t\n",
        "$$\n",
        "\n",
        "Then continue with the standard Adam updates above.\n",
        "\n",
        "🔸 This mixes regularization into the gradient, and can interact poorly with Adam’s adaptive updates."
      ],
      "metadata": {
        "id": "x1JQB5Jrh_A8"
      },
      "id": "x1JQB5Jrh_A8"
    },
    {
      "cell_type": "markdown",
      "source": [
        "### Decoupled Weight Decay (AdamW)\n",
        "\n",
        "Apply weight decay **separately from the gradient**, directly on the parameter after all the other steps:\n",
        "\n",
        "$$\n",
        "\\theta_{t+1} \\leftarrow \\theta_{t+1} - \\eta \\cdot \\lambda \\cdot \\theta_t\n",
        "$$\n",
        "\n",
        "This keeps the optimization step and regularization **decoupled**, which improves generalization and empirical performance in many settings.\n",
        "\n",
        "✅ This is the formulation used in `torch.optim.AdamW` and preferred for training deep networks."
      ],
      "metadata": {
        "id": "2LzONiEkiA0L"
      },
      "id": "2LzONiEkiA0L"
    },
    {
      "cell_type": "code",
      "execution_count": null,
      "id": "325cfd4a",
      "metadata": {
        "id": "325cfd4a"
      },
      "outputs": [],
      "source": [
        "class AdamW:\n",
        "    def __init__(\n",
        "        self,\n",
        "        params,\n",
        "        lr=1e-3,\n",
        "        betas=(0.9, 0.999),\n",
        "        eps=1e-8,\n",
        "        use_l2_norm=False,\n",
        "        l2_lambda=1e-2,\n",
        "        use_wd=True,\n",
        "        weight_decay=1e-2,\n",
        "    ):\n",
        "        assert not (use_l2_norm and use_wd), \"Use either L2 norm or weight decay, not both.\"\n",
        "\n",
        "        self.params = list(params)\n",
        "        self.lr = lr\n",
        "        self.beta1, self.beta2 = betas\n",
        "        self.eps = eps\n",
        "        self.use_l2_norm = use_l2_norm\n",
        "        self.l2_lambda = l2_lambda\n",
        "        self.use_wd = use_wd\n",
        "        self.weight_decay = weight_decay\n",
        "        self.t = 0\n",
        "\n",
        "        self.state = {}\n",
        "        for p in self.params:\n",
        "            self.state[p] = {\n",
        "                'm': torch.zeros_like(p.data),\n",
        "                'v': torch.zeros_like(p.data),\n",
        "            }\n",
        "\n",
        "    def step(self):\n",
        "        self.t += 1\n",
        "        for p in self.params:\n",
        "            if p.grad is None:\n",
        "                continue\n",
        "\n",
        "            grad = p.grad.data\n",
        "            if self.use_l2_norm:\n",
        "                grad = grad + self.l2_lambda * p.data\n",
        "\n",
        "            m = self.state[p]['m']\n",
        "            v = self.state[p]['v']\n",
        "\n",
        "            # Update biased moments\n",
        "            m = self.beta1 * m + (1 - self.beta1) * grad\n",
        "            v = self.beta2 * v + (1 - self.beta2) * (grad ** 2)\n",
        "\n",
        "            # Bias correction\n",
        "            m_hat = m / (1 - self.beta1 ** self.t)\n",
        "            v_hat = v / (1 - self.beta2 ** self.t)\n",
        "\n",
        "            # Parameter update\n",
        "            update = m_hat / (v_hat.sqrt() + self.eps)\n",
        "            p.data = p.data - self.lr * update\n",
        "\n",
        "            if self.use_wd:\n",
        "                p.data = p.data - self.lr * self.weight_decay * p.data\n",
        "\n",
        "            # Save updated m, v\n",
        "            self.state[p]['m'] = m\n",
        "            self.state[p]['v'] = v\n",
        "\n",
        "    def zero_grad(self):\n",
        "        for p in self.params:\n",
        "            if p.grad is not None:\n",
        "                p.grad.detach_()\n",
        "                p.grad.zero_()"
      ]
    },
    {
      "cell_type": "markdown",
      "id": "a95a77c6",
      "metadata": {
        "id": "a95a77c6"
      },
      "source": [
        "## 5. Training Loop\n",
        "\n",
        "Train the MLP with AdamW from scratch and track loss."
      ]
    },
    {
      "cell_type": "code",
      "execution_count": null,
      "id": "a61c98d9",
      "metadata": {
        "colab": {
          "base_uri": "https://localhost:8080/",
          "height": 508
        },
        "id": "a61c98d9",
        "outputId": "d5e84227-da93-4875-b591-9a0932d5fbf2"
      },
      "outputs": [
        {
          "output_type": "stream",
          "name": "stderr",
          "text": [
            "Training (L2 Regularization): 100%|██████████| 100/100 [00:04<00:00, 23.36it/s]\n",
            "Training (AdamW Weight Decay): 100%|██████████| 100/100 [00:04<00:00, 23.77it/s]\n"
          ]
        },
        {
          "output_type": "display_data",
          "data": {
            "text/plain": [
              "<Figure size 640x480 with 1 Axes>"
            ],
            "image/png": "[encoded data removed]"
          },
          "metadata": {}
        }
      ],
      "source": [
        "import matplotlib.pyplot as plt\n",
        "import copy\n",
        "from tqdm import trange\n",
        "\n",
        "device = torch.device(\"cuda\" if torch.cuda.is_available() else \"cpu\")\n",
        "loss_fn = nn.MSELoss()\n",
        "\n",
        "# Function to train a model with given optimizer config\n",
        "def train_model(use_l2_norm=False, use_wd=False, label=\"\"):\n",
        "    model = MLP().to(device)\n",
        "    optimizer = AdamW(\n",
        "        model.parameters(),\n",
        "        lr=1e-3,\n",
        "        betas=(0.9, 0.999),\n",
        "        eps=1e-8,\n",
        "        use_l2_norm=use_l2_norm,\n",
        "        use_wd=use_wd,\n",
        "    )\n",
        "\n",
        "    losses = []\n",
        "\n",
        "    for epoch in trange(100, desc=f\"Training ({label})\"):\n",
        "        total_loss = 0.0\n",
        "        for x_batch, y_batch in dataloader:\n",
        "            x_batch = x_batch.to(device)\n",
        "            y_batch = y_batch.to(device)\n",
        "\n",
        "            preds = model(x_batch)\n",
        "            loss = loss_fn(preds, y_batch)\n",
        "\n",
        "            optimizer.zero_grad()\n",
        "            loss.backward()\n",
        "            optimizer.step()\n",
        "\n",
        "            total_loss += loss.item() * x_batch.size(0)\n",
        "\n",
        "        avg_loss = total_loss / len(dataloader.dataset)\n",
        "        losses.append(avg_loss)\n",
        "\n",
        "    return losses\n",
        "\n",
        "# Train with L2 regularization\n",
        "losses_l2 = train_model(use_l2_norm=True, use_wd=False, label=\"L2 Regularization\")\n",
        "\n",
        "# Train with decoupled weight decay\n",
        "losses_wd = train_model(use_l2_norm=False, use_wd=True, label=\"AdamW Weight Decay\")\n",
        "\n",
        "# Plot\n",
        "plt.plot(losses_l2, label=\"L2 Regularization\")\n",
        "plt.plot(losses_wd, label=\"AdamW Weight Decay\")\n",
        "plt.xlabel(\"Epoch\")\n",
        "plt.ylabel(\"Loss\")\n",
        "plt.title(\"Loss Comparison: L2 vs AdamW\")\n",
        "plt.legend()\n",
        "plt.grid(True)\n",
        "plt.show()"
      ]
    }
  ],
  "metadata": {
    "colab": {
      "provenance": [],
      "toc_visible": true,
      "gpuType": "T4",
      "include_colab_link": true
    },
    "language_info": {
      "name": "python"
    },
    "kernelspec": {
      "name": "python3",
      "display_name": "Python 3"
    },
    "accelerator": "GPU"
  },
  "nbformat": 4,
  "nbformat_minor": 5
}