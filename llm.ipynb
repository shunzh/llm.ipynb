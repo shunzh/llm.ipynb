{
  "cells": [
    {
      "cell_type": "markdown",
      "metadata": {
        "id": "view-in-github",
        "colab_type": "text"
      },
      "source": [
        "<a href=\"https://colab.research.google.com/github/shunzh/llm.ipynb/blob/main/llm.ipynb\" target=\"_parent\"><img src=\"https://colab.research.google.com/assets/colab-badge.svg\" alt=\"Open In Colab\"/></a>"
      ]
    },
    {
      "cell_type": "markdown",
      "metadata": {
        "id": "rbgcy_Lcnb6K"
      },
      "source": [
        "# Implementing a Decoder-Only Transformer from Scratch\n",
        "\n",
        "We implement a decoder-only Transformer architecture with minimum dependencies. This notebook is organized as follows.\n",
        "\n",
        "- Architecture (with single head self-attention)\n",
        "- Model Training and Greedy Decoding\n",
        "- Other features **(WIP)**\n",
        "  - Sampling algorithms\n",
        "  - KV cache\n",
        "  - Multi-head self-attention\n",
        "  - FlashAttention / memory-efficient attention\n",
        "\n",
        "We first import the necessary libraries and set the random seed."
      ]
    },
    {
      "cell_type": "code",
      "execution_count": null,
      "metadata": {
        "id": "XrQMXHWj4nKj"
      },
      "outputs": [],
      "source": [
        "import math\n",
        "import torch\n",
        "import torch.nn as nn\n",
        "\n",
        "# Set random seed\n",
        "seed = 42\n",
        "torch.manual_seed(seed)\n",
        "torch.cuda.manual_seed(seed)"
      ]
    },
    {
      "cell_type": "markdown",
      "metadata": {
        "id": "vQ2VP8xCpMYw"
      },
      "source": [
        "## Architecture\n",
        "\n",
        "We first define a model config object with default parameter values.\n"
      ]
    },
    {
      "cell_type": "code",
      "execution_count": null,
      "metadata": {
        "id": "EAIQppvnMOeZ"
      },
      "outputs": [],
      "source": [
        "from dataclasses import dataclass\n",
        "\n",
        "@dataclass\n",
        "class Config:\n",
        "    # The size of hidden state in transformer, also called d_model\n",
        "    hidden_size: int = 512\n",
        "    # The size of hidden state in MLP in the decoder block\n",
        "    ff_hidden_size: int = 4 * 512\n",
        "    # The number of decoder blocks\n",
        "    num_hidden_layers: int = 2\n",
        "    # Dropout rates for all modules that need dropout\n",
        "    dropout_rate: float = 0.1\n",
        "    vocab_size: int = 10000\n",
        "    max_seq_len: int = 128\n",
        "\n",
        "config = Config()"
      ]
    },
    {
      "cell_type": "markdown",
      "metadata": {
        "id": "N6gyx0Q9Llde"
      },
      "source": [
        "### Decoder Block\n",
        "\n",
        "The decoder block is the core of the transformer. It has four modules inside (where the LayerNorm appears twice):\n",
        "\n",
        "```\n",
        "Input: x (batch_size, seq_len, hidden_size)\n",
        "        │\n",
        "        ▼\n",
        "+-------------------+\n",
        "|   LayerNorm       |\n",
        "+-------------------+\n",
        "        │\n",
        "        ▼\n",
        "+-------------------+\n",
        "|  Self-Attention   |  (single head, with causal mask)\n",
        "+-------------------+\n",
        "        │\n",
        "        ▼\n",
        "+-------------------+\n",
        "|   LayerNorm       |\n",
        "+-------------------+\n",
        "        │\n",
        "        ▼\n",
        "+-------------------+\n",
        "|      MLP          |  (Linear → GELU → Linear)\n",
        "+-------------------+\n",
        "        │\n",
        "        ▼\n",
        "     Output x\n",
        "```\n",
        "\n",
        "Let's define these modules."
      ]
    },
    {
      "cell_type": "code",
      "execution_count": null,
      "metadata": {
        "colab": {
          "base_uri": "https://localhost:8080/"
        },
        "id": "xc5qVYV3Nz-I",
        "outputId": "5beee3be-5027-4cf8-97e1-5a0ca79a80ee"
      },
      "outputs": [
        {
          "name": "stdout",
          "output_type": "stream",
          "text": [
            "The size of layer norm output is (batch_size, seq_len, hidden_size): torch.Size([2, 3, 512])\n"
          ]
        }
      ],
      "source": [
        "class LayerNorm(nn.Module):\n",
        "    def __init__(self, hidden_size, eps=1e-5):\n",
        "        super().__init__()\n",
        "\n",
        "        self.gamma = nn.Parameter(torch.ones(hidden_size)) # (hidden_size,)\n",
        "        self.beta = nn.Parameter(torch.zeros(hidden_size)) # (hidden_size,)\n",
        "        self.eps = eps\n",
        "\n",
        "    def forward(self, x):\n",
        "        # x: (batch_size, seq_len, hidden_size)\n",
        "        mean = x.mean(dim=-1, keepdim=True) # (batch_size, seq_len, 1)\n",
        "        std = x.std(dim=-1, keepdim=True) # (batch_size, seq_len, 1)\n",
        "        return (x - mean) / (std + self.eps) * self.gamma + self.beta # (batch_size, seq_len, hidden_size)\n",
        "\n",
        "\n",
        "# Test layer norm\n",
        "layer_norm = LayerNorm(config.hidden_size)\n",
        "x = torch.randn(2, 3, config.hidden_size)\n",
        "layer_norm_output = layer_norm(x)\n",
        "print(\"The size of layer norm output is (batch_size, seq_len, hidden_size):\", layer_norm_output.shape)"
      ]
    },
    {
      "cell_type": "code",
      "execution_count": null,
      "metadata": {
        "colab": {
          "base_uri": "https://localhost:8080/"
        },
        "id": "E6LJFxvYtD7R",
        "outputId": "1f0b16a9-dec1-4449-ee0c-8f490b0e30ba"
      },
      "outputs": [
        {
          "name": "stdout",
          "output_type": "stream",
          "text": [
            "The attention matrix is: (Note that due to drop out, the values are scaled to (1 - dropout_rate))\n",
            " tensor([[[1.1111, 0.0000, 0.0000],\n",
            "         [0.4300, 0.6812, 0.0000],\n",
            "         [0.3499, 0.4116, 0.3497]],\n",
            "\n",
            "        [[1.1111, 0.0000, 0.0000],\n",
            "         [0.7287, 0.3824, 0.0000],\n",
            "         [0.3532, 0.2315, 0.5264]]], grad_fn=<MulBackward0>)\n",
            "The shape of output is (batch_size, seq_len, d_head): torch.Size([2, 3, 512])\n"
          ]
        }
      ],
      "source": [
        "class SingleHeadSelfAttention(nn.Module):\n",
        "    def __init__(self, hidden_size, dropout_rate=0.1):\n",
        "        super().__init__()\n",
        "\n",
        "        self.hidden_size = hidden_size\n",
        "        self.dropout_rate = dropout_rate\n",
        "\n",
        "        # Attention: hiddent state to query, key, value\n",
        "        self.c_attn = nn.Linear(hidden_size, 3 * hidden_size)\n",
        "        # Output projection\n",
        "        self.c_proj = nn.Linear(hidden_size, hidden_size)\n",
        "\n",
        "        # Dropouts\n",
        "        self.attn_dropout = nn.Dropout(dropout_rate)\n",
        "        self.proj_dropout = nn.Dropout(dropout_rate)\n",
        "\n",
        "    def forward(self, x, return_attn=False):\n",
        "        # x: (batch_size, seq_len, hidden_size)\n",
        "        batch_size, seq_len, hidden_size_in_data = x.shape\n",
        "        assert self.hidden_size == hidden_size_in_data, f\"Mismatch betwee hidden_size in config {self.hidden_size} and hidden_size in data {hidden_size_in_data}\"\n",
        "\n",
        "        c_attn_output = self.c_attn(x) # (batch_size, seq_len, 3 * hidden_size)\n",
        "\n",
        "        # Split into query, key, and value\n",
        "        q, k, v = c_attn_output.split(self.hidden_size, dim=-1)\n",
        "\n",
        "        # Compute attention scores\n",
        "        # q: (.., seq_len, hidden_size)\n",
        "        # k.transpose(-2, -1): (.., hidden_size, seq_len)\n",
        "        attn = (q @ k.transpose(-2, -1)) / (math.sqrt(self.hidden_size)) # (batch_size, seq_len, seq_len)\n",
        "\n",
        "        # Apply causal mask\n",
        "        mask = torch.tril(torch.ones(1, seq_len, seq_len)).to(attn.device) # (1, seq_len, seq_len)\n",
        "        attn = attn.masked_fill(mask == 0, float('-inf'))\n",
        "\n",
        "        # Softmax\n",
        "        attn = torch.softmax(attn, dim=-1)\n",
        "\n",
        "        # Dropout attention\n",
        "        attn = self.attn_dropout(attn)\n",
        "\n",
        "        # Attention output\n",
        "        # attn: (.., seq_len, seq_len)\n",
        "        # v: (.., seq_len, d_head)\n",
        "        attn_output = attn @ v # (batch_size, seq_len, d_head)\n",
        "\n",
        "        # Final projection\n",
        "        proj_output = self.c_proj(attn_output)\n",
        "        proj_output = self.proj_dropout(proj_output) # (batch_size, seq_len, d_head)\n",
        "\n",
        "        if return_attn:\n",
        "            return proj_output, attn\n",
        "        else:\n",
        "            return proj_output\n",
        "\n",
        "\n",
        "# Test\n",
        "x = torch.randn(2, 3, config.hidden_size)\n",
        "self_attention = SingleHeadSelfAttention(config.hidden_size)\n",
        "output, attn = self_attention(x, return_attn=True)\n",
        "print(\"The attention matrix is: (Note that due to drop out, the values are scaled to (1 - dropout_rate))\\n\", attn)\n",
        "print(\"The shape of output is (batch_size, seq_len, d_head):\", output.shape)"
      ]
    },
    {
      "cell_type": "code",
      "execution_count": null,
      "metadata": {
        "colab": {
          "base_uri": "https://localhost:8080/"
        },
        "id": "psUlysBkKo94",
        "outputId": "fcfc0f84-6efc-4277-eec6-ec891acd961d"
      },
      "outputs": [
        {
          "name": "stdout",
          "output_type": "stream",
          "text": [
            "Output shape: torch.Size([2, 3, 512])\n"
          ]
        }
      ],
      "source": [
        "class MLP(nn.Module):\n",
        "    def __init__(self, hidden_size, ff_hidden_size, dropout_rate=0.1):\n",
        "        super().__init__()\n",
        "\n",
        "        self.hidden_size = hidden_size\n",
        "        self.ff_hidden_size = ff_hidden_size\n",
        "\n",
        "        self.c_fc = nn.Linear(self.hidden_size, self.ff_hidden_size)\n",
        "        self.act = nn.GELU() # Or other activation functions\n",
        "        self.c_proj = nn.Linear(self.ff_hidden_size, self.hidden_size)\n",
        "        self.dropout = nn.Dropout(dropout_rate)\n",
        "\n",
        "    def forward(self, x):\n",
        "        # x: (batch_size, seq_len, hidden_size)\n",
        "        x = self.c_fc(x) # (batch_size, seq_len, ff_hidden_size)\n",
        "        x = self.act(x) # (batch_size, seq_len, ff_hidden_size)\n",
        "        x = self.c_proj(x) # (batch_size, seq_len, hidden_size)\n",
        "        x = self.dropout(x)\n",
        "        return x\n",
        "\n",
        "\n",
        "# Test MLP\n",
        "x = torch.randn(2, 3, config.hidden_size)\n",
        "mlp = MLP(config.hidden_size, config.ff_hidden_size)\n",
        "output = mlp(x)\n",
        "print(\"Output shape:\", output.shape)"
      ]
    },
    {
      "cell_type": "markdown",
      "metadata": {
        "id": "B8yBkjCLNMlj"
      },
      "source": [
        "With all the pieces defined above, we're ready to define the decoder block."
      ]
    },
    {
      "cell_type": "code",
      "execution_count": null,
      "metadata": {
        "colab": {
          "base_uri": "https://localhost:8080/"
        },
        "id": "8tGDbfH6NQID",
        "outputId": "c190baa9-231d-4677-844f-b4540d5a74e7"
      },
      "outputs": [
        {
          "name": "stdout",
          "output_type": "stream",
          "text": [
            "torch.Size([2, 3, 512])\n"
          ]
        }
      ],
      "source": [
        "class DecoderBlock(nn.Module):\n",
        "    def __init__(self, hidden_size, ff_hidden_size, dropout_rate=0.1):\n",
        "        super().__init__()\n",
        "        self.ln_1 = LayerNorm(hidden_size)\n",
        "        self.attn = SingleHeadSelfAttention(hidden_size, dropout_rate)\n",
        "        self.ln_2 = LayerNorm(hidden_size)\n",
        "        self.mlp = MLP(hidden_size, ff_hidden_size, dropout_rate)\n",
        "\n",
        "    def forward(self, x):\n",
        "        # x: (batch_size, seq_len, hidden_size)\n",
        "        # Layer norm 1\n",
        "        x = self.ln_1(x)\n",
        "        # Self attention + residual\n",
        "        x = x + self.attn(x)\n",
        "        # Layer norm 2\n",
        "        x = self.ln_2(x)\n",
        "        # MLP + residual\n",
        "        x = x + self.mlp(x)\n",
        "\n",
        "        return x\n",
        "\n",
        "\n",
        "# Test Decoder\n",
        "x = torch.randn(2, 3, config.hidden_size)\n",
        "decoder = DecoderBlock(config.hidden_size, config.ff_hidden_size)\n",
        "x = decoder(x)\n",
        "print(x.shape)"
      ]
    },
    {
      "cell_type": "markdown",
      "metadata": {
        "id": "FIT2gSUtf3M_"
      },
      "source": [
        "### The Complete Transformer Model\n",
        "\n",
        "With the Decoder block defined above, we're ready to define the complete Transformer architecture.\n",
        "\n",
        "```\n",
        "Input: input_ids (batch_size, seq_len)\n",
        "        │\n",
        "        ▼\n",
        "+------------------------+\n",
        "|  Token Embedding       |\n",
        "|  Position Embedding    |\n",
        "+------------------------+\n",
        "        │\n",
        "        ▼\n",
        "+------------------------+\n",
        "|   DecoderBlock × N     |  (defined in the previous section)\n",
        "+------------------------+\n",
        "        │\n",
        "        ▼\n",
        "+------------------------+\n",
        "|   Final LayerNorm      |\n",
        "+------------------------+\n",
        "        │\n",
        "        ▼\n",
        "+------------------------+\n",
        "|  Linear (Language Head)|\n",
        "+------------------------+\n",
        "        │\n",
        "        ▼\n",
        "Output: logits (batch_size, seq_len, vocab_size)\n",
        "```\n"
      ]
    },
    {
      "cell_type": "code",
      "execution_count": null,
      "metadata": {
        "colab": {
          "base_uri": "https://localhost:8080/"
        },
        "id": "lHXI6NE32YBv",
        "outputId": "96966009-b190-4061-b32c-2620e9f830b8"
      },
      "outputs": [
        {
          "name": "stdout",
          "output_type": "stream",
          "text": [
            "Our Transformer model:\n",
            " Transformer(\n",
            "  (token_embed): Embedding(10000, 512)\n",
            "  (position_embed): Embedding(128, 512)\n",
            "  (embed_dropout): Dropout(p=0.1, inplace=False)\n",
            "  (hidden_layers): ModuleList(\n",
            "    (0-1): 2 x DecoderBlock(\n",
            "      (ln_1): LayerNorm()\n",
            "      (attn): SingleHeadSelfAttention(\n",
            "        (c_attn): Linear(in_features=512, out_features=1536, bias=True)\n",
            "        (c_proj): Linear(in_features=512, out_features=512, bias=True)\n",
            "        (attn_dropout): Dropout(p=0.1, inplace=False)\n",
            "        (proj_dropout): Dropout(p=0.1, inplace=False)\n",
            "      )\n",
            "      (ln_2): LayerNorm()\n",
            "      (mlp): MLP(\n",
            "        (c_fc): Linear(in_features=512, out_features=2048, bias=True)\n",
            "        (act): GELU(approximate='none')\n",
            "        (c_proj): Linear(in_features=2048, out_features=512, bias=True)\n",
            "        (dropout): Dropout(p=0.1, inplace=False)\n",
            "      )\n",
            "    )\n",
            "  )\n",
            "  (ln_f): LayerNorm((512,), eps=1e-05, elementwise_affine=True)\n",
            "  (language_head): Linear(in_features=512, out_features=10000, bias=True)\n",
            ")\n",
            "Logits shape: torch.Size([2, 3, 10000])\n"
          ]
        }
      ],
      "source": [
        "class Transformer(nn.Module):\n",
        "    def __init__(\n",
        "        self,\n",
        "        hidden_size,\n",
        "        ff_hidden_size,\n",
        "        vocab_size,\n",
        "        max_seq_len,\n",
        "        num_hidden_layers,\n",
        "        dropout_rate=0.1\n",
        "    ):\n",
        "        super().__init__()\n",
        "\n",
        "        self.token_embed = nn.Embedding(vocab_size, hidden_size)\n",
        "        self.position_embed = nn.Embedding(max_seq_len, hidden_size)\n",
        "        self.embed_dropout = nn.Dropout(dropout_rate)\n",
        "\n",
        "        self.hidden_layers = nn.ModuleList([DecoderBlock(hidden_size, ff_hidden_size, dropout_rate) for _ in range(num_hidden_layers)])\n",
        "        # The final layer norm\n",
        "        self.ln_f = nn.LayerNorm(hidden_size)\n",
        "\n",
        "        # The final language head, which maps the last hidden state to logits\n",
        "        self.language_head = nn.Linear(hidden_size, vocab_size)\n",
        "\n",
        "    def forward(self, input_ids):\n",
        "        # input_ids: (batch_size, seq_len)\n",
        "        batch_size, seq_len = input_ids.shape\n",
        "\n",
        "        # Create position ids (0, 1, 2, ..., seq_len-1)\n",
        "        position_ids = torch.arange(seq_len, device=input_ids.device).unsqueeze(0) # (1, seq_len)\n",
        "\n",
        "        # Embed tokens and positions, apply dropout\n",
        "        x = self.token_embed(input_ids) + self.position_embed(position_ids)\n",
        "        x = self.embed_dropout(x)\n",
        "\n",
        "        # Pass through decoder blocks\n",
        "        for layer in self.hidden_layers:\n",
        "            x = layer(x)\n",
        "\n",
        "        # Final layer norm\n",
        "        x = self.ln_f(x)\n",
        "\n",
        "        # Project to vocabulary\n",
        "        logits = self.language_head(x) # (batch_size, seq_len, vocab_size)\n",
        "\n",
        "        return logits\n",
        "\n",
        "\n",
        "# Test Transformer\n",
        "input_ids = torch.randint(0, config.vocab_size, (2, 3))\n",
        "\n",
        "model = Transformer(\n",
        "    hidden_size=config.hidden_size,\n",
        "    ff_hidden_size=config.ff_hidden_size,\n",
        "    vocab_size=config.vocab_size,\n",
        "    max_seq_len=config.max_seq_len,\n",
        "    num_hidden_layers=config.num_hidden_layers,\n",
        "    dropout_rate=config.dropout_rate,\n",
        ")\n",
        "print(\"Our Transformer model:\\n\", model)\n",
        "\n",
        "logits = model(input_ids)\n",
        "print(\"Logits shape:\", logits.shape)"
      ]
    },
    {
      "cell_type": "markdown",
      "metadata": {
        "id": "QM3gL5p6PRfy"
      },
      "source": [
        "## Model Training and Inference\n",
        "\n",
        "Now we are ready to train the Transformer architecture we defined above.\n",
        "\n",
        "Let's first load the training data, tokenize them using the GPT2 tokenizer, and create a dataloader for training."
      ]
    },
    {
      "cell_type": "code",
      "execution_count": null,
      "metadata": {
        "id": "LfvB3W9lDGJN"
      },
      "outputs": [],
      "source": [
        "!pip install datasets"
      ]
    },
    {
      "cell_type": "code",
      "execution_count": null,
      "metadata": {
        "id": "6V-LNpgjDBOL"
      },
      "outputs": [],
      "source": [
        "from datasets import load_dataset\n",
        "from transformers import AutoTokenizer\n",
        "from torch.utils.data import Dataset, DataLoader\n",
        "import torch\n",
        "\n",
        "# Load tiny_shakespeare dataset\n",
        "dataset = load_dataset(\"karpathy/tiny_shakespeare\", split=\"train\")\n",
        "val_dataset = load_dataset(\"karpathy/tiny_shakespeare\", split=\"validation\")\n",
        "\n",
        "# Load tokenizer\n",
        "tokenizer = AutoTokenizer.from_pretrained(\"gpt2\")\n",
        "tokenizer.pad_token = tokenizer.eos_token\n",
        "\n",
        "# Update config\n",
        "config.vocab_size = tokenizer.vocab_size\n",
        "\n",
        "# Tokenize entire corpus\n",
        "def tokenize(example):\n",
        "    return tokenizer(example[\"text\"])\n",
        "\n",
        "tokenized = dataset.map(tokenize, batched=True, remove_columns=[\"text\"])\n",
        "val_tokenized = val_dataset.map(tokenize, batched=True, remove_columns=[\"text\"])\n",
        "\n",
        "# Flatten input_ids across all examples\n",
        "# (note that tiny_shakespeare only contains one long example)\n",
        "all_tokens = sum(tokenized[\"input_ids\"], [])  # list of ints\n",
        "all_val_tokens = sum(val_tokenized[\"input_ids\"], [])\n",
        "# Use a smaller validation set\n",
        "all_val_tokens = all_val_tokens[:2000]\n",
        "\n",
        "\n",
        "class TokenDataset(Dataset):\n",
        "    def __init__(self, tokens, seq_len):\n",
        "        self.tokens = tokens\n",
        "        self.seq_len = seq_len\n",
        "\n",
        "    def __len__(self):\n",
        "        return len(self.tokens) - self.seq_len\n",
        "\n",
        "    def __getitem__(self, idx):\n",
        "        x = torch.tensor(self.tokens[idx : idx + self.seq_len], dtype=torch.long)\n",
        "        y = torch.tensor(self.tokens[idx + 1 : idx + self.seq_len + 1], dtype=torch.long)\n",
        "        return x, y\n",
        "\n",
        "seq_len = 128\n",
        "dataset = TokenDataset(all_tokens, seq_len)\n",
        "val_dataset = TokenDataset(all_val_tokens, seq_len)\n",
        "dataloader = DataLoader(dataset, batch_size=16, shuffle=True, drop_last=True, pin_memory=True)\n",
        "val_dataloader = DataLoader(val_dataset, batch_size=16, shuffle=False, drop_last=True, pin_memory=True)\n",
        "\n",
        "print(\"Number of batches in training set:\", len(dataloader))\n",
        "print(\"Number of batches in validation set:\", len(val_dataloader))"
      ]
    },
    {
      "cell_type": "markdown",
      "metadata": {
        "id": "O0U96GZvc3Qx"
      },
      "source": [
        "We're now ready to run the training loop.\n",
        "\n",
        "It will stop when the validation loss keeps going up.\n",
        "You may kill the following cell at any point. The checkpoint with the minimum validation loss will be saved and can be used for inference in the next cell."
      ]
    },
    {
      "cell_type": "code",
      "execution_count": null,
      "metadata": {
        "colab": {
          "base_uri": "https://localhost:8080/",
          "height": 543
        },
        "id": "V8NkQrt5Uzqj",
        "outputId": "c03bf7c3-4c12-4b38-e898-aaa5f46268e6"
      },
      "outputs": [
        {
          "data": {
            "image/png": "[encoded data removed]",
            "text/plain": [
              "<Figure size 640x480 with 1 Axes>"
            ]
          },
          "metadata": {},
          "output_type": "display_data"
        },
        {
          "name": "stderr",
          "output_type": "stream",
          "text": [
            "Epoch 0:  45%|████▌     | 8499/18864 [22:25<27:21,  6.32it/s]"
          ]
        },
        {
          "name": "stdout",
          "output_type": "stream",
          "text": [
            "Early stopping. No improvement in the last 5 steps.\n",
            "\n",
            "Training complete.\n"
          ]
        },
        {
          "name": "stderr",
          "output_type": "stream",
          "text": [
            "\n"
          ]
        }
      ],
      "source": [
        "from tqdm import tqdm\n",
        "import matplotlib.pyplot as plt\n",
        "from IPython.display import display, clear_output\n",
        "\n",
        "\n",
        "def refresh_plot(train_steps, train_losses, val_steps, val_losses):\n",
        "    clear_output(wait=True)\n",
        "    plt.clf()\n",
        "    plt.plot(train_steps, train_losses, label=\"Train Loss\", marker=\"o\")\n",
        "    plt.plot(val_steps, val_losses, label=\"Val Loss\", marker=\"x\")\n",
        "    plt.xlabel(\"Step\")\n",
        "    plt.ylabel(\"Loss\")\n",
        "    plt.title(\"Training & Validation Loss\")\n",
        "    plt.legend()\n",
        "    plt.grid(True)\n",
        "    display(plt.gcf())\n",
        "    plt.close()\n",
        "\n",
        "\n",
        "def train(\n",
        "    model,\n",
        "    dataloader,\n",
        "    val_dataloader,\n",
        "    optimizer,\n",
        "    criterion,\n",
        "    epochs,\n",
        "    device=torch.device(\"cpu\"),\n",
        "    log_interval=100,\n",
        "    eval_interval=500,\n",
        "    patience=5,\n",
        "):\n",
        "    model.train()\n",
        "    step = 0\n",
        "    batch_losses = []\n",
        "    train_loss_history = []\n",
        "    val_loss_history = []\n",
        "    train_step_history = []\n",
        "    val_step_history = []\n",
        "\n",
        "    steps_since_best_ckpt = 0\n",
        "    plt.figure(figsize=(8, 5))\n",
        "\n",
        "    for epoch in range(epochs):\n",
        "        for x, y in tqdm(dataloader, desc=f\"Epoch {epoch}\"):\n",
        "            x = x.to(device, non_blocking=True)\n",
        "            y = y.to(device, non_blocking=True)\n",
        "\n",
        "            logits = model(x)\n",
        "            loss = criterion(logits.view(-1, logits.shape[-1]), y.view(-1))\n",
        "\n",
        "            optimizer.zero_grad()\n",
        "            loss.backward()\n",
        "            optimizer.step()\n",
        "\n",
        "            batch_losses.append(loss.item())\n",
        "            step += 1\n",
        "            refresh = False\n",
        "\n",
        "            if step % log_interval == 0:\n",
        "                avg_loss = sum(batch_losses) / len(batch_losses)\n",
        "                train_loss_history.append(avg_loss)\n",
        "                train_step_history.append(step)\n",
        "                batch_losses = []\n",
        "                refresh = True\n",
        "\n",
        "            if step % eval_interval == 0:\n",
        "                model.eval()\n",
        "                val_loss = 0\n",
        "                count = 0\n",
        "                with torch.no_grad():\n",
        "                    for vx, vy in val_dataloader:\n",
        "                        vx = vx.to(device, non_blocking=True)\n",
        "                        vy = vy.to(device, non_blocking=True)\n",
        "                        logits = model(vx)\n",
        "                        loss = criterion(logits.view(-1, logits.shape[-1]), vy.view(-1))\n",
        "                        val_loss += loss.item()\n",
        "                        count += 1\n",
        "                val_loss /= count\n",
        "\n",
        "                if len(val_loss_history) == 0 or val_loss < min(val_loss_history):\n",
        "                    # This is the best model on validation set so far\n",
        "                    steps_since_best_ckpt = 0\n",
        "\n",
        "                    # Save the model weights\n",
        "                    torch.save(model.state_dict(), \"/content/model.pth\")\n",
        "                else:\n",
        "                    # This is worse than the best model on validation set\n",
        "                    steps_since_best_ckpt += 1\n",
        "\n",
        "                    if steps_since_best_ckpt > patience:\n",
        "                        print(f\"Early stopping. No improvement in the last {patience} steps.\")\n",
        "                        break\n",
        "\n",
        "                val_loss_history.append(val_loss)\n",
        "                val_step_history.append(step)\n",
        "\n",
        "                model.train()\n",
        "                refresh = True\n",
        "\n",
        "            if refresh:\n",
        "                refresh_plot(train_step_history, train_loss_history, val_step_history, val_loss_history)\n",
        "\n",
        "    print(\"Training complete.\")\n",
        "\n",
        "\n",
        "device = torch.device(\"cuda\") if torch.cuda.is_available() else torch.device(\"cpu\")\n",
        "print(\"Using device\", device)\n",
        "\n",
        "# Initialize model\n",
        "model = Transformer(\n",
        "    hidden_size=config.hidden_size,\n",
        "    ff_hidden_size=config.ff_hidden_size,\n",
        "    vocab_size=config.vocab_size,\n",
        "    max_seq_len=config.max_seq_len,\n",
        "    num_hidden_layers=config.num_hidden_layers,\n",
        "    dropout_rate=config.dropout_rate,\n",
        ").to(device)\n",
        "\n",
        "# Optimizer and loss function\n",
        "optimizer = torch.optim.AdamW(model.parameters(), lr=1e-4)\n",
        "criterion = torch.nn.CrossEntropyLoss()\n",
        "\n",
        "train(\n",
        "    model,\n",
        "    dataloader,\n",
        "    val_dataloader,\n",
        "    optimizer,\n",
        "    criterion,\n",
        "    epochs=1,\n",
        "    device=device,\n",
        "    log_interval=100,\n",
        "    eval_interval=500,\n",
        "    patience=5,\n",
        ")"
      ]
    },
    {
      "cell_type": "markdown",
      "metadata": {
        "id": "NdpJYH_TZsdJ"
      },
      "source": [
        "### Greedy Decoding\n",
        "\n",
        "Let's run greedy decoding using the trained model."
      ]
    },
    {
      "cell_type": "code",
      "execution_count": null,
      "metadata": {
        "colab": {
          "base_uri": "https://localhost:8080/"
        },
        "id": "Gkk_gYlHfSu5",
        "outputId": "97680c61-ebc9-4e12-d1c9-0fab181966d2"
      },
      "outputs": [
        {
          "name": "stdout",
          "output_type": "stream",
          "text": [
            "Using device cuda\n",
            "==== Model output ====\n",
            ",\n",
            "And, by the Duke of York,\n",
            "And all the world goes,\n",
            "And, with the rest of York,\n",
            "And, with the Duke of York,\n",
            "And all the rest,\n",
            "And that the king's king,\n",
            "And that the king's king, to the crown,\n",
            "And the king, to the Duke of York,\n",
            "And, by the Duke of York,\n",
            "And made the king's king, and the king's king,\n",
            "And that the king's king,\n",
            "And that the king's king,\n",
            "And that the king was the king's king,\n",
            "And that the king\n"
          ]
        }
      ],
      "source": [
        "def greedy_decode(model, input_ids, max_len, device=torch.device(\"cpu\")):\n",
        "    model.eval()\n",
        "    # input_ids: (batch_size, seq_len)\n",
        "    input_ids = input_ids.to(device)\n",
        "\n",
        "    for _ in range(max_len - input_ids.size(1)):\n",
        "        logits = model(input_ids) # (batch_size, seq_len, vocab_size)\n",
        "        next_token = torch.argmax(logits[:, -1, :], dim=-1, keepdim=True) # (batch_size, 1)\n",
        "        input_ids = torch.cat((input_ids, next_token), dim=-1)\n",
        "\n",
        "    return input_ids\n",
        "\n",
        "\n",
        "#  The training cell above may have been killed. So redefine these variables here.\n",
        "device = torch.device(\"cuda\") if torch.cuda.is_available() else torch.device(\"cpu\")\n",
        "print(\"Using device\", device)\n",
        "\n",
        "# Initialize model\n",
        "model = Transformer(\n",
        "    hidden_size=config.hidden_size,\n",
        "    ff_hidden_size=config.ff_hidden_size,\n",
        "    vocab_size=config.vocab_size,\n",
        "    max_seq_len=config.max_seq_len,\n",
        "    num_hidden_layers=config.num_hidden_layers,\n",
        "    dropout_rate=config.dropout_rate,\n",
        ").to(device)\n",
        "\n",
        "# Load trained model\n",
        "model.load_state_dict(torch.load(\"/content/model.pth\", map_location=device))\n",
        "\n",
        "# Use an empty prompt\n",
        "input_ids = torch.tensor([[tokenizer.bos_token_id]], dtype=torch.long).to(device)\n",
        "\n",
        "# Run greedy decoding\n",
        "output_ids = greedy_decode(model, input_ids, max_len=128, device=device)\n",
        "generated_text = tokenizer.decode(output_ids[0].tolist(), skip_special_tokens=True)\n",
        "\n",
        "print(\"==== Model output ====\")\n",
        "print(generated_text)"
      ]
    },
    {
      "cell_type": "markdown",
      "metadata": {
        "id": "2qfjYCMA9cAr"
      },
      "source": [
        "## Other Features\n",
        "\n",
        "TODO Not finished\n",
        "\n",
        "### Multi-Head Self Attention\n",
        "\n",
        "Multi-head is slightly more complicated as we need to divide the `c_attn` output into different heads."
      ]
    },
    {
      "cell_type": "code",
      "execution_count": null,
      "metadata": {
        "id": "ZNJYapmO9m3k"
      },
      "outputs": [],
      "source": [
        "class MultiHeadSelfAttention(nn.Module):\n",
        "    def __init__(self, hidden_size, num_heads, dropout_rate=0.1):\n",
        "        super().__init__()\n",
        "\n",
        "        self.hidden_size = hidden_size\n",
        "        self.num_heads = num_heads\n",
        "        # Find the embedding size for each head\n",
        "        assert self.hidden_size % self.num_heads == 0\n",
        "        self.d_head = self.hidden_size // self.num_heads\n",
        "        self.dropout_rate = dropout_rate\n",
        "\n",
        "        # Attention: hiddent state to query, key, value\n",
        "        self.c_attn = nn.Linear(hidden_size, 3 * hidden_size)\n",
        "        # Output projection\n",
        "        self.c_proj = nn.Linear(hidden_size, hidden_size)\n",
        "\n",
        "        # Dropouts\n",
        "        self.attn_dropout = nn.Dropout(dropout_rate)\n",
        "        self.proj_dropout = nn.Dropout(dropout_rate)\n",
        "\n",
        "    def forward(self, x):\n",
        "        batch_size, seq_len, _ = x.shape\n",
        "\n",
        "        # Project to QKV and split\n",
        "        qkv = self.c_attn(x)  # (batch_size, seq_len, 3 * hidden_size)\n",
        "        q, k, v = qkv.chunk(3, dim=-1)\n",
        "\n",
        "        # Reshape and transpose for multi-head attention\n",
        "        q = q.view(batch_size, seq_len, self.num_heads, self.d_head).transpose(1, 2)\n",
        "        k = k.view(batch_size, seq_len, self.num_heads, self.d_head).transpose(1, 2)\n",
        "        v = v.view(batch_size, seq_len, self.num_heads, self.d_head).transpose(1, 2)\n",
        "\n",
        "        # Attention scores\n",
        "        attn_scores = (q @ k.transpose(-2, -1)) / math.sqrt(self.d_head)\n",
        "\n",
        "        # Causal mask\n",
        "        mask = torch.tril(torch.ones(seq_len, seq_len, device=x.device)).unsqueeze(0).unsqueeze(0)\n",
        "        attn_scores = attn_scores.masked_fill(mask == 0, float('-inf'))\n",
        "\n",
        "        # Softmax and dropout\n",
        "        attn_weights = torch.softmax(attn_scores, dim=-1)\n",
        "        attn_weights = self.attn_dropout(attn_weights)\n",
        "\n",
        "        # Weighted sum of values\n",
        "        attn_output = attn_weights @ v  # (batch_size, num_heads, seq_len, d_head)\n",
        "\n",
        "        # Concatenate heads\n",
        "        attn_output = attn_output.transpose(1, 2).contiguous().view(batch_size, seq_len, self.hidden_size)\n",
        "\n",
        "        # Final projection + dropout\n",
        "        out = self.c_proj(attn_output)\n",
        "        out = self.proj_dropout(out)\n",
        "\n",
        "        return out"
      ]
    },
    {
      "cell_type": "markdown",
      "metadata": {
        "id": "zYzZBlnbyntI"
      },
      "source": [
        "## Other Useful Resources\n",
        "\n",
        "- We use [Hugging Face's implementation of GPT2](https://github.com/huggingface/transformers/blob/main/src/transformers/models/gpt2/modeling_gpt2.py) as a reference.\n",
        "- [The Illustrated GPT-2](https://jalammar.github.io/illustrated-gpt2/): A blog on illustrating GPT2.\n",
        "- [llm.c](https://github.com/karpathy/llm.c): Implementation of LLM from scratch in C.\n",
        "- Original paper:\n",
        "    - Vaswani, Ashish, et al. \"Attention is all you need.\" Advances in neural information processing systems 30 (2017)."
      ]
    }
  ],
  "metadata": {
    "accelerator": "GPU",
    "colab": {
      "gpuType": "T4",
      "provenance": [],
      "include_colab_link": true
    },
    "kernelspec": {
      "display_name": "Python 3",
      "name": "python3"
    },
    "language_info": {
      "name": "python"
    }
  },
  "nbformat": 4,
  "nbformat_minor": 0
}