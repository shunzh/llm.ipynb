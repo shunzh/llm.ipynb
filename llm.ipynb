{
  "cells": [
    {
      "cell_type": "markdown",
      "metadata": {
        "id": "view-in-github",
        "colab_type": "text"
      },
      "source": [
        "<a href=\"https://colab.research.google.com/github/shunzh/llm.ipynb/blob/main/llm.ipynb\" target=\"_parent\"><img src=\"https://colab.research.google.com/assets/colab-badge.svg\" alt=\"Open In Colab\"/></a>"
      ]
    },
    {
      "cell_type": "markdown",
      "metadata": {
        "id": "rbgcy_Lcnb6K"
      },
      "source": [
        "# 📘 Implementing a Decoder-Only Transformer from Scratch\n",
        "\n",
        "We implement a decoder-only Transformer architecture with minimum dependencies. This notebook is organized as follows.\n",
        "\n",
        "- Architecture (with single head self-attention)\n",
        "- Model Training and Inference (greedy decoding and sampling)\n",
        "- Other features **(WIP)**\n",
        "\n",
        "We first install / import the necessary libraries and set the random seed."
      ]
    },
    {
      "cell_type": "code",
      "execution_count": null,
      "metadata": {
        "id": "LfvB3W9lDGJN"
      },
      "outputs": [],
      "source": [
        "# Colab default datasets version has some issues with dataset downloading\n",
        "!pip install datasets==3.6.0"
      ]
    },
    {
      "cell_type": "code",
      "execution_count": null,
      "metadata": {
        "id": "XrQMXHWj4nKj"
      },
      "outputs": [],
      "source": [
        "import math\n",
        "import torch\n",
        "import torch.nn as nn\n",
        "\n",
        "\n",
        "# Set random seed\n",
        "seed = 42\n",
        "torch.manual_seed(seed)\n",
        "torch.cuda.manual_seed(seed)"
      ]
    },
    {
      "cell_type": "markdown",
      "metadata": {
        "id": "vQ2VP8xCpMYw"
      },
      "source": [
        "## Architecture\n",
        "\n",
        "We first define a model config object with default parameter values.\n"
      ]
    },
    {
      "cell_type": "code",
      "execution_count": null,
      "metadata": {
        "id": "EAIQppvnMOeZ"
      },
      "outputs": [],
      "source": [
        "from dataclasses import dataclass\n",
        "\n",
        "@dataclass\n",
        "class Config:\n",
        "    # The size of hidden state in transformer, also called d_model\n",
        "    hidden_size: int = 512\n",
        "    # The size of hidden state in MLP in the decoder block\n",
        "    ff_hidden_size: int = 4 * 512\n",
        "    # The number of decoder blocks\n",
        "    num_hidden_layers: int = 2\n",
        "    # Dropout rates for all modules that need dropout\n",
        "    dropout_rate: float = 0.1\n",
        "    vocab_size: int = 10000\n",
        "    max_seq_len: int = 128\n",
        "\n",
        "config = Config()"
      ]
    },
    {
      "cell_type": "markdown",
      "metadata": {
        "id": "N6gyx0Q9Llde"
      },
      "source": [
        "### Decoder Block\n",
        "\n",
        "The decoder block is the core of the transformer. It has four modules inside (where the LayerNorm appears twice):\n",
        "\n",
        "```\n",
        "Input: x (batch_size, seq_len, hidden_size)\n",
        "        │\n",
        "        ▼\n",
        "+-------------------+\n",
        "|   LayerNorm       |\n",
        "+-------------------+\n",
        "        │\n",
        "        ▼\n",
        "+-------------------+\n",
        "|  Self-Attention   |  (single head, with causal mask)\n",
        "+-------------------+\n",
        "        │\n",
        "        ▼\n",
        "+-------------------+\n",
        "|   LayerNorm       |\n",
        "+-------------------+\n",
        "        │\n",
        "        ▼\n",
        "+-------------------+\n",
        "|      MLP          |  (Linear → GELU → Linear)\n",
        "+-------------------+\n",
        "        │\n",
        "        ▼\n",
        "     Output x (batch_size, seq_len, hidden_size)\n",
        "```\n",
        "\n",
        "Let's define these modules."
      ]
    },
    {
      "cell_type": "code",
      "execution_count": null,
      "metadata": {
        "id": "xc5qVYV3Nz-I",
        "colab": {
          "base_uri": "https://localhost:8080/"
        },
        "outputId": "d39a26a7-2b8b-457c-bde6-9c7dcd7d65cd"
      },
      "outputs": [
        {
          "output_type": "stream",
          "name": "stdout",
          "text": [
            "The size of layer norm output is (batch_size, seq_len, hidden_size): torch.Size([1, 3, 512])\n"
          ]
        }
      ],
      "source": [
        "class LayerNorm(nn.Module):\n",
        "    def __init__(self, hidden_size, eps=1e-5):\n",
        "        super().__init__()\n",
        "\n",
        "        self.gamma = nn.Parameter(torch.ones(hidden_size)) # (hidden_size,)\n",
        "        self.beta = nn.Parameter(torch.zeros(hidden_size)) # (hidden_size,)\n",
        "        self.eps = eps\n",
        "\n",
        "    def forward(self, x):\n",
        "        # x: (batch_size, seq_len, hidden_size)\n",
        "        mean = x.mean(dim=-1, keepdim=True) # (batch_size, seq_len, 1)\n",
        "        std = x.std(dim=-1, keepdim=True) # (batch_size, seq_len, 1)\n",
        "        return (x - mean) / (std + self.eps) * self.gamma + self.beta # (batch_size, seq_len, hidden_size)\n",
        "\n",
        "\n",
        "# Test layer norm\n",
        "layer_norm = LayerNorm(config.hidden_size)\n",
        "x = torch.randn(1, 3, config.hidden_size)\n",
        "layer_norm_output = layer_norm(x)\n",
        "print(\"The size of layer norm output is (batch_size, seq_len, hidden_size):\", layer_norm_output.shape)"
      ]
    },
    {
      "cell_type": "code",
      "execution_count": null,
      "metadata": {
        "id": "E6LJFxvYtD7R"
      },
      "outputs": [],
      "source": [
        "class SingleHeadSelfAttention(nn.Module):\n",
        "    def __init__(self, hidden_size, dropout_rate=0.1):\n",
        "        super().__init__()\n",
        "\n",
        "        self.hidden_size = hidden_size\n",
        "        self.dropout_rate = dropout_rate\n",
        "\n",
        "        # Attention: hidden state to query, key, value\n",
        "        self.c_attn = nn.Linear(hidden_size, 3 * hidden_size)\n",
        "        # Output projection\n",
        "        self.c_proj = nn.Linear(hidden_size, hidden_size)\n",
        "\n",
        "        # Dropouts\n",
        "        self.attn_dropout = nn.Dropout(dropout_rate)\n",
        "        self.proj_dropout = nn.Dropout(dropout_rate)\n",
        "\n",
        "    def forward(self, x, return_attn=False):\n",
        "        # x: (batch_size, seq_len, hidden_size)\n",
        "        batch_size, seq_len, hidden_size_in_data = x.shape\n",
        "        assert self.hidden_size == hidden_size_in_data, f\"Mismatch between hidden_size in config {self.hidden_size} and hidden_size in data {hidden_size_in_data}\"\n",
        "\n",
        "        c_attn_output = self.c_attn(x) # (batch_size, seq_len, 3 * hidden_size)\n",
        "\n",
        "        # Split into query, key, and value\n",
        "        q, k, v = c_attn_output.split(self.hidden_size, dim=-1)\n",
        "\n",
        "        # Compute attention scores\n",
        "        # q: (.., seq_len, hidden_size)\n",
        "        # k.transpose(-2, -1): (.., hidden_size, seq_len)\n",
        "        attn = (q @ k.transpose(-2, -1)) / (math.sqrt(self.hidden_size)) # (batch_size, seq_len, seq_len)\n",
        "\n",
        "        # Apply causal mask\n",
        "        mask = torch.tril(torch.ones(1, seq_len, seq_len)).to(attn.device) # (1, seq_len, seq_len)\n",
        "        attn = attn.masked_fill(mask == 0, float('-inf'))\n",
        "\n",
        "        # Softmax\n",
        "        attn = torch.softmax(attn, dim=-1)\n",
        "\n",
        "        # Dropout attention\n",
        "        attn = self.attn_dropout(attn)\n",
        "\n",
        "        # Attention output\n",
        "        # attn: (.., seq_len, seq_len)\n",
        "        # v: (.., seq_len, d_head)\n",
        "        attn_output = attn @ v # (batch_size, seq_len, d_head)\n",
        "\n",
        "        # Final projection\n",
        "        proj_output = self.c_proj(attn_output)\n",
        "        proj_output = self.proj_dropout(proj_output) # (batch_size, seq_len, d_head)\n",
        "\n",
        "        if return_attn:\n",
        "            return proj_output, attn\n",
        "        else:\n",
        "            return proj_output"
      ]
    },
    {
      "cell_type": "markdown",
      "source": [
        "Let's run the self-attention module on a simple input and visualize its attention weights."
      ],
      "metadata": {
        "id": "KrqrjHl7ywsX"
      }
    },
    {
      "cell_type": "code",
      "source": [
        "import matplotlib.pyplot as plt\n",
        "import seaborn as sns\n",
        "\n",
        "# Test\n",
        "x = torch.randn(1, 3, config.hidden_size)\n",
        "self_attention = SingleHeadSelfAttention(config.hidden_size)\n",
        "output, attn = self_attention(x, return_attn=True)\n",
        "\n",
        "# Visualize the attention matrix for the first head and first sample\n",
        "# attn shape: (batch_size, seq_len, seq_len)\n",
        "attn_matrix = attn[0].detach().cpu().numpy()  # shape: (seq_len, seq_len)\n",
        "\n",
        "print(\"The attention matrix is: (Note that due to drop out, the values are scaled to (1 - dropout_rate))\")\n",
        "\n",
        "plt.figure(figsize=(5, 4))\n",
        "sns.heatmap(attn_matrix, annot=True, cmap=\"viridis\", cbar=True, square=True)\n",
        "plt.title(\"Self-Attention Matrix\")\n",
        "plt.xlabel(\"Key Positions\")\n",
        "plt.ylabel(\"Query Positions\")\n",
        "plt.tight_layout()\n",
        "plt.show()\n",
        "\n",
        "print(\"The shape of output is (batch_size, seq_len, hidden_size):\", output.shape)"
      ],
      "metadata": {
        "id": "oaiHyeoqyraZ",
        "colab": {
          "base_uri": "https://localhost:8080/",
          "height": 443
        },
        "outputId": "ffb2cc4a-bbf0-4a12-843c-66f922f33a65"
      },
      "execution_count": null,
      "outputs": [
        {
          "output_type": "stream",
          "name": "stdout",
          "text": [
            "The attention matrix is: (Note that due to drop out, the values are scaled to (1 - dropout_rate))\n"
          ]
        },
        {
          "output_type": "display_data",
          "data": {
            "text/plain": [
              "<Figure size 500x400 with 2 Axes>"
            ],
            "image/png": "[encoded data removed]"
          },
          "metadata": {}
        },
        {
          "output_type": "stream",
          "name": "stdout",
          "text": [
            "The shape of output is (batch_size, seq_len, hidden_size): torch.Size([1, 3, 512])\n"
          ]
        }
      ]
    },
    {
      "cell_type": "code",
      "execution_count": null,
      "metadata": {
        "id": "psUlysBkKo94",
        "colab": {
          "base_uri": "https://localhost:8080/"
        },
        "outputId": "34426694-9208-4ce4-8d2c-7cde23feec9e"
      },
      "outputs": [
        {
          "output_type": "stream",
          "name": "stdout",
          "text": [
            "Output shape: torch.Size([1, 3, 512])\n"
          ]
        }
      ],
      "source": [
        "class MLP(nn.Module):\n",
        "    def __init__(self, hidden_size, ff_hidden_size, dropout_rate=0.1):\n",
        "        super().__init__()\n",
        "\n",
        "        self.hidden_size = hidden_size\n",
        "        self.ff_hidden_size = ff_hidden_size\n",
        "\n",
        "        self.c_fc = nn.Linear(self.hidden_size, self.ff_hidden_size)\n",
        "        self.act = nn.GELU() # Or other activation functions\n",
        "        self.c_proj = nn.Linear(self.ff_hidden_size, self.hidden_size)\n",
        "        self.dropout = nn.Dropout(dropout_rate)\n",
        "\n",
        "    def forward(self, x):\n",
        "        # x: (batch_size, seq_len, hidden_size)\n",
        "        x = self.c_fc(x) # (batch_size, seq_len, ff_hidden_size)\n",
        "        x = self.act(x) # (batch_size, seq_len, ff_hidden_size)\n",
        "        x = self.c_proj(x) # (batch_size, seq_len, hidden_size)\n",
        "        x = self.dropout(x)\n",
        "        return x\n",
        "\n",
        "\n",
        "# Test MLP\n",
        "x = torch.randn(1, 3, config.hidden_size)\n",
        "mlp = MLP(config.hidden_size, config.ff_hidden_size)\n",
        "output = mlp(x)\n",
        "print(\"Output shape:\", output.shape)"
      ]
    },
    {
      "cell_type": "markdown",
      "metadata": {
        "id": "B8yBkjCLNMlj"
      },
      "source": [
        "With all the pieces defined above, we're ready to define the decoder block."
      ]
    },
    {
      "cell_type": "code",
      "execution_count": null,
      "metadata": {
        "id": "8tGDbfH6NQID",
        "colab": {
          "base_uri": "https://localhost:8080/"
        },
        "outputId": "fc7be2c1-d945-4311-dd98-825d33061680"
      },
      "outputs": [
        {
          "output_type": "stream",
          "name": "stdout",
          "text": [
            "torch.Size([1, 3, 512])\n"
          ]
        }
      ],
      "source": [
        "class DecoderBlock(nn.Module):\n",
        "    def __init__(self, hidden_size, ff_hidden_size, dropout_rate=0.1):\n",
        "        super().__init__()\n",
        "        self.ln_1 = LayerNorm(hidden_size)\n",
        "        self.attn = SingleHeadSelfAttention(hidden_size, dropout_rate)\n",
        "        self.ln_2 = LayerNorm(hidden_size)\n",
        "        self.mlp = MLP(hidden_size, ff_hidden_size, dropout_rate)\n",
        "\n",
        "    def forward(self, x):\n",
        "        # x: (batch_size, seq_len, hidden_size)\n",
        "        # Layer norm 1\n",
        "        x = self.ln_1(x)\n",
        "        # Self attention + residual\n",
        "        x = x + self.attn(x)\n",
        "        # Layer norm 2\n",
        "        x = self.ln_2(x)\n",
        "        # MLP + residual\n",
        "        x = x + self.mlp(x)\n",
        "\n",
        "        return x\n",
        "\n",
        "\n",
        "# Test Decoder\n",
        "x = torch.randn(1, 3, config.hidden_size)\n",
        "decoder = DecoderBlock(config.hidden_size, config.ff_hidden_size)\n",
        "x = decoder(x)\n",
        "print(x.shape)"
      ]
    },
    {
      "cell_type": "markdown",
      "metadata": {
        "id": "FIT2gSUtf3M_"
      },
      "source": [
        "### The Complete Transformer Model\n",
        "\n",
        "With the Decoder block defined above, we're ready to define the complete Transformer architecture.\n",
        "\n",
        "```\n",
        "Input: input_ids (batch_size, seq_len)\n",
        "        │\n",
        "        ▼\n",
        "+------------------------+\n",
        "|  Token Embedding       |\n",
        "|  Position Embedding    |\n",
        "+------------------------+\n",
        "        │\n",
        "        ▼\n",
        "+------------------------+\n",
        "|   DecoderBlock × N     |  (defined in the previous section)\n",
        "+------------------------+\n",
        "        │\n",
        "        ▼\n",
        "+------------------------+\n",
        "|   Final LayerNorm      |\n",
        "+------------------------+\n",
        "        │\n",
        "        ▼\n",
        "+------------------------+\n",
        "|  Linear (Language Head)|\n",
        "+------------------------+\n",
        "        │\n",
        "        ▼\n",
        "Output: logits (batch_size, seq_len, vocab_size)\n",
        "```\n"
      ]
    },
    {
      "cell_type": "code",
      "execution_count": null,
      "metadata": {
        "id": "lHXI6NE32YBv",
        "colab": {
          "base_uri": "https://localhost:8080/"
        },
        "outputId": "7a3c1413-2251-4a03-bb30-c87f09cbb0ad"
      },
      "outputs": [
        {
          "output_type": "stream",
          "name": "stdout",
          "text": [
            "Our Transformer model:\n",
            " Transformer(\n",
            "  (token_embed): Embedding(10000, 512)\n",
            "  (position_embed): Embedding(128, 512)\n",
            "  (embed_dropout): Dropout(p=0.1, inplace=False)\n",
            "  (hidden_layers): ModuleList(\n",
            "    (0-1): 2 x DecoderBlock(\n",
            "      (ln_1): LayerNorm()\n",
            "      (attn): SingleHeadSelfAttention(\n",
            "        (c_attn): Linear(in_features=512, out_features=1536, bias=True)\n",
            "        (c_proj): Linear(in_features=512, out_features=512, bias=True)\n",
            "        (attn_dropout): Dropout(p=0.1, inplace=False)\n",
            "        (proj_dropout): Dropout(p=0.1, inplace=False)\n",
            "      )\n",
            "      (ln_2): LayerNorm()\n",
            "      (mlp): MLP(\n",
            "        (c_fc): Linear(in_features=512, out_features=2048, bias=True)\n",
            "        (act): GELU(approximate='none')\n",
            "        (c_proj): Linear(in_features=2048, out_features=512, bias=True)\n",
            "        (dropout): Dropout(p=0.1, inplace=False)\n",
            "      )\n",
            "    )\n",
            "  )\n",
            "  (ln_f): LayerNorm((512,), eps=1e-05, elementwise_affine=True)\n",
            "  (language_head): Linear(in_features=512, out_features=10000, bias=True)\n",
            ")\n",
            "Logits shape: torch.Size([1, 3, 10000])\n"
          ]
        }
      ],
      "source": [
        "class Transformer(nn.Module):\n",
        "    def __init__(\n",
        "        self,\n",
        "        hidden_size,\n",
        "        ff_hidden_size,\n",
        "        vocab_size,\n",
        "        max_seq_len,\n",
        "        num_hidden_layers,\n",
        "        dropout_rate=0.1\n",
        "    ):\n",
        "        super().__init__()\n",
        "\n",
        "        self.token_embed = nn.Embedding(vocab_size, hidden_size)\n",
        "        self.position_embed = nn.Embedding(max_seq_len, hidden_size)\n",
        "        self.embed_dropout = nn.Dropout(dropout_rate)\n",
        "\n",
        "        self.hidden_layers = nn.ModuleList([DecoderBlock(hidden_size, ff_hidden_size, dropout_rate) for _ in range(num_hidden_layers)])\n",
        "        # The final layer norm\n",
        "        self.ln_f = nn.LayerNorm(hidden_size)\n",
        "\n",
        "        # The final language head, which maps the last hidden state to logits\n",
        "        self.language_head = nn.Linear(hidden_size, vocab_size)\n",
        "\n",
        "    def forward(self, input_ids):\n",
        "        # input_ids: (batch_size, seq_len)\n",
        "        batch_size, seq_len = input_ids.shape\n",
        "\n",
        "        # Create position ids (0, 1, 2, ..., seq_len-1)\n",
        "        position_ids = torch.arange(seq_len, device=input_ids.device).unsqueeze(0) # (1, seq_len)\n",
        "\n",
        "        # Embed tokens and positions, apply dropout\n",
        "        x = self.token_embed(input_ids) + self.position_embed(position_ids)\n",
        "        x = self.embed_dropout(x)\n",
        "\n",
        "        # Pass through decoder blocks\n",
        "        for layer in self.hidden_layers:\n",
        "            x = layer(x)\n",
        "\n",
        "        # Final layer norm\n",
        "        x = self.ln_f(x)\n",
        "\n",
        "        # Project to vocabulary\n",
        "        logits = self.language_head(x) # (batch_size, seq_len, vocab_size)\n",
        "\n",
        "        return logits\n",
        "\n",
        "\n",
        "# Test Transformer\n",
        "input_ids = torch.randint(0, config.vocab_size, (1, 3))\n",
        "\n",
        "model = Transformer(\n",
        "    hidden_size=config.hidden_size,\n",
        "    ff_hidden_size=config.ff_hidden_size,\n",
        "    vocab_size=config.vocab_size,\n",
        "    max_seq_len=config.max_seq_len,\n",
        "    num_hidden_layers=config.num_hidden_layers,\n",
        "    dropout_rate=config.dropout_rate,\n",
        ")\n",
        "print(\"Our Transformer model:\\n\", model)\n",
        "\n",
        "logits = model(input_ids)\n",
        "print(\"Logits shape:\", logits.shape)"
      ]
    },
    {
      "cell_type": "markdown",
      "metadata": {
        "id": "QM3gL5p6PRfy"
      },
      "source": [
        "## Model Training and Inference"
      ]
    },
    {
      "cell_type": "markdown",
      "source": [
        "\n",
        "### The Training Loop\n",
        "\n",
        "Now we are ready to train the Transformer architecture we defined above.\n",
        "\n",
        "Let's first load the training data, tokenize them using the GPT2 tokenizer, and create a dataloader for training."
      ],
      "metadata": {
        "id": "NyRSdqc2vCw0"
      }
    },
    {
      "cell_type": "code",
      "execution_count": null,
      "metadata": {
        "id": "6V-LNpgjDBOL"
      },
      "outputs": [],
      "source": [
        "from datasets import load_dataset\n",
        "from transformers import AutoTokenizer\n",
        "from torch.utils.data import Dataset, DataLoader\n",
        "\n",
        "# Load tiny_shakespeare dataset\n",
        "dataset = load_dataset(\"karpathy/tiny_shakespeare\", split=\"train\")\n",
        "val_dataset = load_dataset(\"karpathy/tiny_shakespeare\", split=\"validation\")\n",
        "\n",
        "# Load tokenizer\n",
        "tokenizer = AutoTokenizer.from_pretrained(\"gpt2\")\n",
        "tokenizer.pad_token = tokenizer.eos_token\n",
        "\n",
        "# Update config\n",
        "config.vocab_size = tokenizer.vocab_size\n",
        "\n",
        "# Tokenize entire corpus\n",
        "def tokenize(example):\n",
        "    return tokenizer(example[\"text\"])\n",
        "\n",
        "tokenized = dataset.map(tokenize, batched=True, remove_columns=[\"text\"])\n",
        "val_tokenized = val_dataset.map(tokenize, batched=True, remove_columns=[\"text\"])\n",
        "\n",
        "# Flatten input_ids across all examples\n",
        "# (note that tiny_shakespeare only contains one long example)\n",
        "all_tokens = sum(tokenized[\"input_ids\"], [])  # list of ints\n",
        "all_val_tokens = sum(val_tokenized[\"input_ids\"], [])\n",
        "# Use a smaller validation set\n",
        "all_val_tokens = all_val_tokens[:2000]\n",
        "\n",
        "\n",
        "class TokenDataset(Dataset):\n",
        "    def __init__(self, tokens, seq_len):\n",
        "        self.tokens = tokens\n",
        "        self.seq_len = seq_len\n",
        "\n",
        "    def __len__(self):\n",
        "        return len(self.tokens) - self.seq_len\n",
        "\n",
        "    def __getitem__(self, idx):\n",
        "        x = torch.tensor(self.tokens[idx : idx + self.seq_len], dtype=torch.long)\n",
        "        y = torch.tensor(self.tokens[idx + 1 : idx + self.seq_len + 1], dtype=torch.long)\n",
        "        return x, y\n",
        "\n",
        "seq_len = 128\n",
        "dataset = TokenDataset(all_tokens, seq_len)\n",
        "val_dataset = TokenDataset(all_val_tokens, seq_len)\n",
        "dataloader = DataLoader(dataset, batch_size=16, shuffle=True, drop_last=True, pin_memory=True)\n",
        "val_dataloader = DataLoader(val_dataset, batch_size=16, shuffle=False, drop_last=True, pin_memory=True)\n",
        "\n",
        "print(\"Number of batches in training set:\", len(dataloader))\n",
        "print(\"Number of batches in validation set:\", len(val_dataloader))"
      ]
    },
    {
      "cell_type": "markdown",
      "source": [
        "Let's set a path to save the trained checkpoint so it can be retrieved later for inference."
      ],
      "metadata": {
        "id": "Nev3XgQ6GqYD"
      }
    },
    {
      "cell_type": "code",
      "source": [
        "from google.colab import drive\n",
        "drive.mount('/content/drive')\n",
        "\n",
        "# Set model path here\n",
        "model_checkpoint_path = \"/content/drive/MyDrive/Colab Notebooks/model.pth\"\n",
        "\n",
        "# Or save the checkpoint to this runtime without connecting to Google Drive.\n",
        "# The checkpoint will be deleted after the runtime terminates.\n",
        "# model_checkpoint_path = \"/content/model.pth\""
      ],
      "metadata": {
        "id": "UgLF1mD9qchS",
        "colab": {
          "base_uri": "https://localhost:8080/"
        },
        "outputId": "9310cf50-5491-4e8a-fe15-230cad39761a"
      },
      "execution_count": null,
      "outputs": [
        {
          "output_type": "stream",
          "name": "stdout",
          "text": [
            "Mounted at /content/drive\n"
          ]
        }
      ]
    },
    {
      "cell_type": "markdown",
      "metadata": {
        "id": "O0U96GZvc3Qx"
      },
      "source": [
        "We're now ready to run the training loop.\n",
        "It will stop when the validation loss keeps going up.\n",
        "You may kill the following cell at any point. The checkpoint with the minimum validation loss will be saved."
      ]
    },
    {
      "cell_type": "code",
      "execution_count": null,
      "metadata": {
        "id": "V8NkQrt5Uzqj",
        "colab": {
          "base_uri": "https://localhost:8080/",
          "height": 525
        },
        "outputId": "6a09b350-08e3-4076-8d9c-794be692b1ef"
      },
      "outputs": [
        {
          "output_type": "display_data",
          "data": {
            "text/plain": [
              "<Figure size 640x480 with 1 Axes>"
            ],
            "image/png": "[encoded data removed]"
          },
          "metadata": {}
        },
        {
          "output_type": "stream",
          "name": "stderr",
          "text": [
            "Epoch 0:  42%|████▏     | 7999/18864 [20:23<27:42,  6.54it/s]"
          ]
        },
        {
          "output_type": "stream",
          "name": "stdout",
          "text": [
            "Early stopping. No improvement in the last 5 steps.\n",
            "Training complete.\n"
          ]
        },
        {
          "output_type": "stream",
          "name": "stderr",
          "text": [
            "\n"
          ]
        }
      ],
      "source": [
        "from tqdm import tqdm\n",
        "import matplotlib.pyplot as plt\n",
        "from IPython.display import display, clear_output\n",
        "\n",
        "\n",
        "def refresh_plot(train_steps, train_losses, val_steps, val_losses):\n",
        "    clear_output(wait=True)\n",
        "    plt.clf()\n",
        "    plt.plot(train_steps, train_losses, label=\"Train Loss\", marker=\"o\")\n",
        "    plt.plot(val_steps, val_losses, label=\"Val Loss\", marker=\"x\")\n",
        "    plt.xlabel(\"Step\")\n",
        "    plt.ylabel(\"Loss\")\n",
        "    plt.title(\"Training & Validation Loss\")\n",
        "    plt.legend()\n",
        "    plt.grid(True)\n",
        "    display(plt.gcf())\n",
        "    plt.close()\n",
        "\n",
        "\n",
        "def train(\n",
        "    model,\n",
        "    dataloader,\n",
        "    val_dataloader,\n",
        "    optimizer,\n",
        "    criterion,\n",
        "    epochs,\n",
        "    device=torch.device(\"cpu\"),\n",
        "    log_interval=100,\n",
        "    eval_interval=500,\n",
        "    patience=5,\n",
        "):\n",
        "    model.train()\n",
        "    step = 0\n",
        "    batch_losses = []\n",
        "    train_loss_history = []\n",
        "    val_loss_history = []\n",
        "    train_step_history = []\n",
        "    val_step_history = []\n",
        "\n",
        "    steps_since_best_ckpt = 0\n",
        "    plt.figure(figsize=(8, 5))\n",
        "\n",
        "    for epoch in range(epochs):\n",
        "        for x, y in tqdm(dataloader, desc=f\"Epoch {epoch}\"):\n",
        "            x = x.to(device, non_blocking=True)\n",
        "            y = y.to(device, non_blocking=True)\n",
        "\n",
        "            logits = model(x)\n",
        "            loss = criterion(logits.view(-1, logits.shape[-1]), y.view(-1))\n",
        "\n",
        "            optimizer.zero_grad()\n",
        "            loss.backward()\n",
        "            optimizer.step()\n",
        "\n",
        "            batch_losses.append(loss.item())\n",
        "            step += 1\n",
        "            refresh = False\n",
        "\n",
        "            if step % log_interval == 0:\n",
        "                # Log training loss\n",
        "                avg_loss = sum(batch_losses) / len(batch_losses)\n",
        "                train_loss_history.append(avg_loss)\n",
        "                train_step_history.append(step)\n",
        "                batch_losses = []\n",
        "                refresh = True\n",
        "\n",
        "            if step % eval_interval == 0:\n",
        "                # Log validation loss\n",
        "                model.eval()\n",
        "                val_loss = 0\n",
        "                count = 0\n",
        "                with torch.no_grad():\n",
        "                    for vx, vy in val_dataloader:\n",
        "                        vx = vx.to(device, non_blocking=True)\n",
        "                        vy = vy.to(device, non_blocking=True)\n",
        "                        logits = model(vx)\n",
        "                        loss = criterion(logits.view(-1, logits.shape[-1]), vy.view(-1))\n",
        "                        val_loss += loss.item()\n",
        "                        count += 1\n",
        "                val_loss /= count\n",
        "\n",
        "                # Handle model saving and early stopping\n",
        "                if len(val_loss_history) == 0 or val_loss < min(val_loss_history):\n",
        "                    # This is the best model on validation set so far\n",
        "                    steps_since_best_ckpt = 0\n",
        "\n",
        "                    # Save the model weights\n",
        "                    torch.save(model.state_dict(), model_checkpoint_path)\n",
        "                else:\n",
        "                    # This is worse than the best model on validation set\n",
        "                    steps_since_best_ckpt += 1\n",
        "\n",
        "                    if steps_since_best_ckpt > patience:\n",
        "                        print(f\"Early stopping. No improvement in the last {patience} steps.\")\n",
        "                        break\n",
        "\n",
        "                val_loss_history.append(val_loss)\n",
        "                val_step_history.append(step)\n",
        "\n",
        "                model.train()\n",
        "                refresh = True\n",
        "\n",
        "            if refresh:\n",
        "                refresh_plot(train_step_history, train_loss_history, val_step_history, val_loss_history)\n",
        "\n",
        "    print(\"Training complete.\")\n",
        "\n",
        "\n",
        "device = torch.device(\"cuda\") if torch.cuda.is_available() else torch.device(\"cpu\")\n",
        "print(\"Using device\", device)\n",
        "\n",
        "# Initialize model\n",
        "model = Transformer(\n",
        "    hidden_size=config.hidden_size,\n",
        "    ff_hidden_size=config.ff_hidden_size,\n",
        "    vocab_size=config.vocab_size,\n",
        "    max_seq_len=config.max_seq_len,\n",
        "    num_hidden_layers=config.num_hidden_layers,\n",
        "    dropout_rate=config.dropout_rate,\n",
        ").to(device)\n",
        "\n",
        "# Optimizer and loss function\n",
        "optimizer = torch.optim.AdamW(model.parameters(), lr=1e-4)\n",
        "criterion = torch.nn.CrossEntropyLoss()\n",
        "\n",
        "train(\n",
        "    model,\n",
        "    dataloader,\n",
        "    val_dataloader,\n",
        "    optimizer,\n",
        "    criterion,\n",
        "    epochs=1,\n",
        "    device=device,\n",
        "    log_interval=100,\n",
        "    eval_interval=500,\n",
        "    patience=5,\n",
        ")"
      ]
    },
    {
      "cell_type": "markdown",
      "metadata": {
        "id": "NdpJYH_TZsdJ"
      },
      "source": [
        "### Model Inference\n",
        "\n"
      ]
    },
    {
      "cell_type": "markdown",
      "source": [
        "Let's first load the trained model from the previous cell."
      ],
      "metadata": {
        "id": "8uqr-jBVNGkd"
      }
    },
    {
      "cell_type": "code",
      "source": [
        "#  The training cell above may have been killed. So redefine these variables here.\n",
        "device = torch.device(\"cuda\") if torch.cuda.is_available() else torch.device(\"cpu\")\n",
        "print(\"Using device\", device)\n",
        "\n",
        "# Initialize model\n",
        "model = Transformer(\n",
        "    hidden_size=config.hidden_size,\n",
        "    ff_hidden_size=config.ff_hidden_size,\n",
        "    vocab_size=config.vocab_size,\n",
        "    max_seq_len=config.max_seq_len,\n",
        "    num_hidden_layers=config.num_hidden_layers,\n",
        "    dropout_rate=config.dropout_rate,\n",
        ").to(device)\n",
        "\n",
        "# Load trained model\n",
        "model.load_state_dict(torch.load(model_checkpoint_path, map_location=device))"
      ],
      "metadata": {
        "colab": {
          "base_uri": "https://localhost:8080/"
        },
        "id": "HgPQ0oe0NBlM",
        "outputId": "bb54f9c5-33ed-49a2-e6d2-a983c83df45a"
      },
      "execution_count": null,
      "outputs": [
        {
          "output_type": "stream",
          "name": "stdout",
          "text": [
            "Using device cuda\n"
          ]
        },
        {
          "output_type": "execute_result",
          "data": {
            "text/plain": [
              "<All keys matched successfully>"
            ]
          },
          "metadata": {},
          "execution_count": 13
        }
      ]
    },
    {
      "cell_type": "markdown",
      "source": [
        "\n",
        "\n",
        "#### Greedy Decoding\n",
        "\n",
        "Since we're using a very small model and a very limited training set, the generated outputs may not be semantically meaningful.\n",
        "Still, let's run greedy decoding with the trained model and see what it produces!"
      ],
      "metadata": {
        "id": "WtDWu2nwNATm"
      }
    },
    {
      "cell_type": "code",
      "execution_count": null,
      "metadata": {
        "colab": {
          "base_uri": "https://localhost:8080/"
        },
        "id": "Gkk_gYlHfSu5",
        "outputId": "87f835bb-c94a-4c25-a898-10c6ef0a64d1"
      },
      "outputs": [
        {
          "output_type": "stream",
          "name": "stdout",
          "text": [
            "==== Model output ====\n",
            ",\n",
            "And, as I am a king,\n",
            "And, as I do not, and I am sure,\n",
            "And, as I am a king,\n",
            "And yet I am not to be a king.\n",
            "\n",
            "DUKE VINCENTIO:\n",
            "I am a gentleman, and I am a king,\n",
            "And so I am a king, and a\n",
            "motion generative to the crown.\n",
            "\n",
            "DUKE VINCENTIO:\n",
            "I know you, sir, sir, sir, sir, sir, sir, sir, sir, sir, sir, sir, sir, sir, sir, sir\n"
          ]
        }
      ],
      "source": [
        "def greedy_decode(model, input_ids, max_len, device=torch.device(\"cpu\")):\n",
        "    model.eval()\n",
        "    # input_ids: (batch_size, seq_len)\n",
        "    input_ids = input_ids.to(device)\n",
        "\n",
        "    for _ in range(max_len - input_ids.size(1)):\n",
        "        logits = model(input_ids) # (batch_size, seq_len, vocab_size)\n",
        "        next_tokens = torch.argmax(logits[:, -1, :], dim=-1, keepdim=True) # (batch_size, 1)\n",
        "        input_ids = torch.cat((input_ids, next_tokens), dim=-1)\n",
        "\n",
        "    return input_ids\n",
        "\n",
        "\n",
        "# Use an empty prompt\n",
        "input_ids = torch.tensor([[tokenizer.bos_token_id]], dtype=torch.long).to(device)\n",
        "\n",
        "# Run greedy decoding\n",
        "output_ids = greedy_decode(model, input_ids, max_len=128, device=device)\n",
        "generated_text = tokenizer.decode(output_ids[0].tolist(), skip_special_tokens=True)\n",
        "\n",
        "print(\"==== Model output ====\")\n",
        "print(generated_text)"
      ]
    },
    {
      "cell_type": "markdown",
      "metadata": {
        "id": "2qfjYCMA9cAr"
      },
      "source": [
        "#### Sampling\n",
        "\n",
        "Sampling generates tokens by drawing from the model's output distribution, rather than always selecting the most likely token. This allows for more diverse and creative text generation.\n",
        "\n",
        "We implement sampling with the following options:\n",
        "\n",
        "- **top_k**: Keep only the $k$ most probable tokens.\n",
        "- **top_p** (nucleus sampling): Keep the top most-likely tokens with cumulative probability greater or equal to $p$:\n",
        "\n",
        "  $$\n",
        "  \\sum_{i=1}^{n-1} p(x, t_i) < p, \\quad \\sum_{i=1}^{n} p(x, t_i) \\ge p,\n",
        "  $$\n",
        "\n",
        "- **temperature**: Scales logits before softmax to control randomness:\n",
        "\n",
        "  $$\n",
        "  p_i \\sim e^{\\frac{logit_i}{T}},\n",
        "  $$\n",
        "\n",
        "  where $logit_i$ is the logit for token $i$, and $T > 0$ is the temperature. Lower $T$ sharpens the distribution; higher $T$ flattens it.\n",
        "\n",
        "Let's first implement top_k and top_p filtering."
      ]
    },
    {
      "cell_type": "code",
      "source": [
        "def top_k_filter(logits, top_k):\n",
        "    # logits: (batch_size, vocab_size)\n",
        "    assert type(top_k) is int and top_k > 0, f\"top_k {top_k} needs to be a positive integer\"\n",
        "\n",
        "    # In case top_k is larger than the vocab size (unlikely)\n",
        "    top_k = min(top_k, logits.shape[1])\n",
        "\n",
        "    top_k_values, top_k_indices = torch.topk(logits, top_k)\n",
        "    # top_k_values: (batch_size, top_k)\n",
        "    threshold = top_k_values[:, -1] # (batch_size,)\n",
        "    # Adjust the dimension for broadcasting later\n",
        "    threshold = threshold.unsqueeze(-1) # (batch_size, 1)\n",
        "    # Fill all values that are after top_k with -inf, so they wouldn't be selected later\n",
        "    logits = logits.masked_fill(logits < threshold, -float(\"inf\")) # (batch_size, vocab_size)\n",
        "    return logits\n",
        "\n",
        "\n",
        "def top_p_filter(logits, top_p):\n",
        "    sorted_logits, sorted_indices = torch.sort(logits, descending=True, dim=-1) # Both (batch_size, vocab_size)\n",
        "    sorted_probs = torch.softmax(sorted_logits, dim=-1) # (batch_size, vocab_size)\n",
        "    cum_probs = torch.cumsum(sorted_probs, dim=-1) # (batch_size, vocab_size)\n",
        "\n",
        "    # The sorted tokens to keep\n",
        "    keep_mask = cum_probs <= top_p\n",
        "    # Always keep at least one token\n",
        "    keep_mask[..., 0] = 1\n",
        "\n",
        "    # Set filtered logits to -inf so they wouldn't be selected later\n",
        "    filtered_logits = sorted_logits.masked_fill(~keep_mask, -float(\"inf\"))\n",
        "\n",
        "    logits.scatter_(dim=-1, index=sorted_indices, src=filtered_logits)\n",
        "    return logits"
      ],
      "metadata": {
        "id": "v0eRpOcXKpVJ"
      },
      "execution_count": null,
      "outputs": []
    },
    {
      "cell_type": "markdown",
      "source": [
        "Let's visualize which tokens are kept by top-k and top-p filtering on an example logits array.\n",
        "The tokens are sorted in descending order by their logits.\n",
        "In the output histogram, top-k keeps the top k tokens with the highest logits; top-p keeps the smallest set of tokens whose cumulative probabilities sum to at least p."
      ],
      "metadata": {
        "id": "XFQnxfG3OCQF"
      }
    },
    {
      "cell_type": "code",
      "source": [
        "import numpy as np\n",
        "import matplotlib.pyplot as plt\n",
        "\n",
        "\n",
        "def test_top_k_top_p(top_k=None, top_p=None):\n",
        "    # An example logit array\n",
        "    logits = torch.tensor([[5.0, 4.0, 3.0, 2.0]])\n",
        "    original_probs = torch.softmax(logits, dim=-1).squeeze().numpy()\n",
        "    tokens = np.arange(len(original_probs))\n",
        "\n",
        "    top_k_probs = None\n",
        "    top_p_probs = None\n",
        "    if top_k is not None:\n",
        "        top_k_logits = top_k_filter(logits.clone(), top_k)\n",
        "        top_k_probs = torch.softmax(top_k_logits, dim=-1).squeeze().numpy()\n",
        "    if top_p is not None:\n",
        "        top_p_logits = top_p_filter(logits.clone(), top_p)\n",
        "        top_p_probs = torch.softmax(top_p_logits, dim=-1).squeeze().numpy()\n",
        "\n",
        "    n_plots = 1 + int(top_k is not None) + int(top_p is not None)\n",
        "    plt.figure(figsize=(4 * n_plots, 4))\n",
        "\n",
        "    plt.subplot(1, n_plots, 1)\n",
        "    plt.bar(tokens, original_probs)\n",
        "    plt.title(\"Original Probabilities\")\n",
        "    plt.xlabel(\"Token ID\")\n",
        "    plt.ylabel(\"Probability\")\n",
        "\n",
        "    plot_idx = 2\n",
        "    if top_k_probs is not None:\n",
        "        plt.subplot(1, n_plots, plot_idx)\n",
        "        plt.bar(tokens, top_k_probs)\n",
        "        plt.title(f\"Top-K (k={top_k})\")\n",
        "        plt.xlabel(\"Token ID\")\n",
        "        plt.ylabel(\"Probability\")\n",
        "        plot_idx += 1\n",
        "\n",
        "    if top_p_probs is not None:\n",
        "        plt.subplot(1, n_plots, plot_idx)\n",
        "        plt.bar(tokens, top_p_probs)\n",
        "        plt.title(f\"Top-P (p={top_p})\")\n",
        "        plt.xlabel(\"Token ID\")\n",
        "        plt.ylabel(\"Probability\")\n",
        "\n",
        "    plt.tight_layout()\n",
        "    plt.show()\n",
        "\n",
        "\n",
        "test_top_k_top_p(top_k=3, top_p=0.9)"
      ],
      "metadata": {
        "colab": {
          "base_uri": "https://localhost:8080/",
          "height": 407
        },
        "id": "IWUak0pVKnRc",
        "outputId": "163b41c0-e5cd-46e5-e28d-dc9170613dc1"
      },
      "execution_count": null,
      "outputs": [
        {
          "output_type": "display_data",
          "data": {
            "text/plain": [
              "<Figure size 1200x400 with 3 Axes>"
            ],
            "image/png": "[encoded data removed]"
          },
          "metadata": {}
        }
      ]
    },
    {
      "cell_type": "markdown",
      "source": [
        "Let's now implement sampling using top_k, top_p, and temperature."
      ],
      "metadata": {
        "id": "vaQ_awgqOSqc"
      }
    },
    {
      "cell_type": "code",
      "source": [
        "def sample(model, input_ids, max_len, top_k=None, top_p=None, temperature=1.0, device=torch.device(\"cpu\")):\n",
        "    model.eval()\n",
        "    # input_ids: (batch_size, seq_len)\n",
        "    input_ids = input_ids.to(device)\n",
        "\n",
        "    for _ in range(max_len - input_ids.size(1)):\n",
        "        logits = model(input_ids) # (batch_size, seq_len, vocab_size)\n",
        "        # Get the next token prediction at the last input_id\n",
        "        logits = logits[:, -1, :] # (batch_size, vocab_size)\n",
        "\n",
        "        # Apply temperature\n",
        "        logits = logits / temperature\n",
        "\n",
        "        if top_k:\n",
        "            logits = top_k_filter(logits, top_k)\n",
        "\n",
        "        if top_p:\n",
        "            logits = top_p_filter(logits, top_p)\n",
        "\n",
        "        probs = torch.softmax(logits, dim=-1) # (batch_size, vocab_isze)\n",
        "        next_tokens = torch.multinomial(probs, num_samples=1) # (batch_size, 1)\n",
        "\n",
        "        input_ids = torch.cat((input_ids, next_tokens), dim=-1) # (batch_size, number of tokens)\n",
        "\n",
        "    return input_ids\n",
        "\n",
        "\n",
        "# Use an empty prompt\n",
        "input_ids = torch.tensor([[tokenizer.bos_token_id]], dtype=torch.long).to(device)\n",
        "\n",
        "# Run greedy decoding\n",
        "output_ids = sample(model, input_ids, max_len=128, top_k=3, top_p=0.9, temperature=1.0, device=device)\n",
        "generated_text = tokenizer.decode(output_ids[0].tolist(), skip_special_tokens=True)\n",
        "\n",
        "print(\"==== Model output ====\")\n",
        "print(generated_text)"
      ],
      "metadata": {
        "id": "1MS5iJS4GZT3",
        "colab": {
          "base_uri": "https://localhost:8080/"
        },
        "outputId": "f51b2829-9936-49ea-809c-fa2a23145484"
      },
      "execution_count": null,
      "outputs": [
        {
          "output_type": "stream",
          "name": "stdout",
          "text": [
            "==== Model output ====\n",
            "\n",
            "I'll be the more.\n",
            "\n",
            "ROMEO:\n",
            "O, I will not be a man.\n",
            "\n",
            "Nurse:\n",
            "O, good sir!\n",
            "\n",
            "Nurse:\n",
            "I know not what I am a gentleman born.\n",
            "\n",
            "ROMEO:\n",
            "I am too:\n",
            "I am too much for the time is gone.\n",
            "\n",
            "Nurse:\n",
            "I know it, sir; for I will not be a\n",
            "man to be a man of a gentleman, a\n",
            "motion generative, and\n",
            "The one that hath been a little less\n",
            "Than a man of the other's wife.\n",
            "\n",
            "\n"
          ]
        }
      ]
    },
    {
      "cell_type": "markdown",
      "source": [
        "## Other Features **(Work in Progress)**"
      ],
      "metadata": {
        "id": "NDVVzaRGJqXw"
      }
    },
    {
      "cell_type": "markdown",
      "source": [
        "### KV Cache\n",
        "\n",
        "Implemented in [this notebook](https://github.com/shunzh/llm.ipynb/blob/main/llm_with_kv_cache.ipynb)."
      ],
      "metadata": {
        "id": "P9nNQCbDG02k"
      }
    },
    {
      "cell_type": "markdown",
      "source": [
        "### Multi-Head Self Attention\n",
        "\n",
        "Multi-head is slightly more complicated as we need to divide the `c_attn` output into different heads."
      ],
      "metadata": {
        "id": "EErJQ1RlG2TV"
      }
    },
    {
      "cell_type": "code",
      "execution_count": null,
      "metadata": {
        "id": "ZNJYapmO9m3k"
      },
      "outputs": [],
      "source": [
        "class MultiHeadSelfAttention(nn.Module):\n",
        "    def __init__(self, hidden_size, num_heads, dropout_rate=0.1):\n",
        "        super().__init__()\n",
        "\n",
        "        self.hidden_size = hidden_size\n",
        "        self.num_heads = num_heads\n",
        "        # Find the embedding size for each head\n",
        "        assert self.hidden_size % self.num_heads == 0\n",
        "        self.d_head = self.hidden_size // self.num_heads\n",
        "        self.dropout_rate = dropout_rate\n",
        "\n",
        "        # Attention: hidden state to query, key, value\n",
        "        self.c_attn = nn.Linear(hidden_size, 3 * hidden_size)\n",
        "        # Output projection\n",
        "        self.c_proj = nn.Linear(hidden_size, hidden_size)\n",
        "\n",
        "        # Dropouts\n",
        "        self.attn_dropout = nn.Dropout(dropout_rate)\n",
        "        self.proj_dropout = nn.Dropout(dropout_rate)\n",
        "\n",
        "    def forward(self, x):\n",
        "        batch_size, seq_len, _ = x.shape\n",
        "\n",
        "        # Project to QKV and split\n",
        "        qkv = self.c_attn(x)  # (batch_size, seq_len, 3 * hidden_size)\n",
        "        q, k, v = qkv.chunk(3, dim=-1)\n",
        "\n",
        "        # Reshape and transpose for multi-head attention\n",
        "        q = q.view(batch_size, seq_len, self.num_heads, self.d_head).transpose(1, 2)\n",
        "        k = k.view(batch_size, seq_len, self.num_heads, self.d_head).transpose(1, 2)\n",
        "        v = v.view(batch_size, seq_len, self.num_heads, self.d_head).transpose(1, 2)\n",
        "\n",
        "        # Attention scores\n",
        "        attn_scores = (q @ k.transpose(-2, -1)) / math.sqrt(self.d_head)\n",
        "\n",
        "        # Causal mask\n",
        "        mask = torch.tril(torch.ones(seq_len, seq_len, device=x.device)).unsqueeze(0).unsqueeze(0)\n",
        "        attn_scores = attn_scores.masked_fill(mask == 0, float('-inf'))\n",
        "\n",
        "        # Softmax and dropout\n",
        "        attn_weights = torch.softmax(attn_scores, dim=-1)\n",
        "        attn_weights = self.attn_dropout(attn_weights)\n",
        "\n",
        "        # Weighted sum of values\n",
        "        attn_output = attn_weights @ v  # (batch_size, num_heads, seq_len, d_head)\n",
        "\n",
        "        # Concatenate heads\n",
        "        attn_output = attn_output.transpose(1, 2).contiguous().view(batch_size, seq_len, self.hidden_size)\n",
        "\n",
        "        # Final projection + dropout\n",
        "        out = self.c_proj(attn_output)\n",
        "        out = self.proj_dropout(out)\n",
        "\n",
        "        return out"
      ]
    },
    {
      "cell_type": "markdown",
      "metadata": {
        "id": "zYzZBlnbyntI"
      },
      "source": [
        "## Other Useful Resources\n",
        "\n",
        "- We use [Hugging Face's implementation of GPT2](https://github.com/huggingface/transformers/blob/main/src/transformers/models/gpt2/modeling_gpt2.py) as a reference.\n",
        "- [The Illustrated GPT-2](https://jalammar.github.io/illustrated-gpt2/): A blog on illustrating GPT2.\n",
        "- [llm.c](https://github.com/karpathy/llm.c): Implementation of LLM from scratch in C.\n",
        "- Original paper:\n",
        "    - Vaswani, Ashish, et al. \"Attention is all you need.\" Advances in neural information processing systems 30 (2017)."
      ]
    }
  ],
  "metadata": {
    "colab": {
      "provenance": [],
      "gpuType": "T4",
      "toc_visible": true,
      "include_colab_link": true
    },
    "kernelspec": {
      "display_name": "Python 3",
      "name": "python3"
    },
    "language_info": {
      "name": "python"
    },
    "accelerator": "GPU"
  },
  "nbformat": 4,
  "nbformat_minor": 0
}